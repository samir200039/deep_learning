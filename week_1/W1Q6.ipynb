import numpy as np
import matplotlib.pyplot as plt

class Perceptron:
    def __init__(self, input_size):
        # Initialize weights and bias with random values
        self.weights = np.random.rand(input_size)
        self.bias = np.random.rand(1)

    def step_function(self, x):
        # Step function as the activation function
        return 1 if x >= 0 else 0

    def predict(self, inputs):
        # Calculate the weighted sum and apply the step function
        weighted_sum = np.dot(inputs, self.weights) + self.bias[0]
        return self.step_function(weighted_sum)

# Manually set weights and bias for XOR
xor_weights = np.array([1, 1])  # Adjusted to capture XOR pattern
xor_bias = -1.5  # Adjusted to capture XOR pattern

# XOR Gate Testing
xor_gate_inputs = np.array([[0, 0], [0, 1], [1, 0], [1, 1]])
xor_gate_perceptron = Perceptron(input_size=2)
xor_gate_perceptron.weights = xor_weights
xor_gate_perceptron.bias[0] = xor_bias

print("\nXOR Gate:")
for i in range(len(xor_gate_inputs)):
    prediction = xor_gate_perceptron.predict(xor_gate_inputs[i])
    print(f"Input: {xor_gate_inputs[i]}, Predicted Output: {prediction}")

# Perceptron Learning Rule and Decision Boundary Plotting
# Linearly separable dataset
data = np.array([[2, 3, 0], [3, 1, 0], [4, 4, 1], [1, 1, 1]])

# Extract features and labels
X = data[:, :2]
y = data[:, 2]

# Create and train perceptron using perceptron learning rule
perceptron = Perceptron(input_size=2)
for epoch in range(100):
    for i in range(len(X)):
        prediction = perceptron.predict(X[i])
        error = y[i] - prediction
        perceptron.weights += error * X[i]
        perceptron.bias += error

# Plot decision boundary before training
plt.figure(figsize=(12, 5))
plt.subplot(1, 2, 1)
plt.scatter(X[:, 0], X[:, 1], c=y, cmap=plt.cm.Paired, edgecolors='k')
plt.title('Decision Boundary Before Training')
plt.xlabel('Feature 1')
plt.ylabel('Feature 2')

# Plot decision boundary after training
plt.subplot(1, 2, 2)
plt.scatter(X[:, 0], X[:, 1], c=y, cmap=plt.cm.Paired, edgecolors='k')
x_min, x_max = plt.xlim()
y_min, y_max = plt.ylim()
xx, yy = np.meshgrid(np.linspace(x_min, x_max, 100), np.linspace(y_min, y_max, 100))
Z = np.array([perceptron.predict(x) for x in np.c_[xx.ravel(), yy.ravel()]])
Z = Z.reshape(xx.shape)
plt.contour(xx, yy, Z, colors='k', levels=[-1, 0, 1], alpha=0.5, linestyles=['--', '-', '--'])
plt.title('Decision Boundary After Training')
plt.xlabel('Feature 1')
plt.ylabel('Feature 2')

plt.show()
