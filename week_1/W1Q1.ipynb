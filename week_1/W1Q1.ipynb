class SmartHomeThermostat:
    def __init__(self):
        self.current_temperature = 70  
        self.user_present = False
        self.season = ""
        self.preferred_temperature = 70  

    def get_user_input(self):
        try:
            self.user_present = bool(int(input("Is the user at home? (1 for Yes, 0 for No): ")))
            self.season = input("Enter the season (winter/summer): ").lower()
            self.current_temperature = float(input("Enter the current external temperature (in degrees F): "))

            if self.user_present:
                self.preferred_temperature = float(input("Enter the user's preferred temperature (in degrees F): "))

        except ValueError:
            print("Invalid input. Please enter valid values.")

    def apply_rules(self):
        current_time = input("Enter the current time (HH:MM AM/PM): ")

        if "AM" in current_time or "PM" in current_time:
            current_hour = int(current_time.split(":")[0])
            if 6 <= current_hour <= 8 and self.current_temperature < 65:
                self.set_thermostat_temperature(70)
            elif 8 <= current_hour < 17 and self.current_temperature > 75:
                self.set_thermostat_temperature(72)
            elif (current_hour >= 17 or current_hour < 6) and self.current_temperature < 60:
                self.set_thermostat_temperature(65)
            elif self.user_present:
                self.set_thermostat_temperature(self.preferred_temperature)
            else:
                self.set_energy_saving_temperature()
        else:
            print("Invalid time format. Please use HH:MM AM/PM.")

    def set_thermostat_temperature(self, temperature):
        print(f"Setting thermostat temperature to {temperature} degrees F.")

    def set_energy_saving_temperature(self):
        if self.season == "winter":
            self.set_thermostat_temperature(60)
        elif self.season == "summer":
            self.set_thermostat_temperature(80)


smart_thermostat = SmartHomeThermostat()

smart_thermostat.get_user_input()

smart_thermostat.apply_rules()
