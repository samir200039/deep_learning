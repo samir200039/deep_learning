import numpy as np

class Perceptron:
    def __init__(self, input_size):
        self.weights = np.random.rand(input_size)
        self.bias = np.random.rand(1)

    def step_function(self, x):
        return 1 if x >= 0 else 0

    def predict(self, inputs):
        weighted_sum = np.dot(inputs, self.weights) + self.bias
        return self.step_function(weighted_sum)

and_gate_inputs = np.array([[0, 0], [0, 1], [1, 0], [1, 1]])
and_gate_labels = np.array([0, 0, 0, 1])

and_gate_perceptron = Perceptron(input_size=2)
for epoch in range(1000):
    for i in range(len(and_gate_inputs)):
        prediction = and_gate_perceptron.predict(and_gate_inputs[i])
        error = and_gate_labels[i] - prediction
        and_gate_perceptron.weights += error * and_gate_inputs[i]
        and_gate_perceptron.bias += error

print("AND Gate:")
for i in range(len(and_gate_inputs)):
    prediction = and_gate_perceptron.predict(and_gate_inputs[i])
    print(f"Input: {and_gate_inputs[i]}, Predicted Output: {prediction}")

or_gate_inputs = np.array([[0, 0], [0, 1], [1, 0], [1, 1]])
or_gate_labels = np.array([0, 1, 1, 1])

or_gate_perceptron = Perceptron(input_size=2)
for epoch in range(1000):
    for i in range(len(or_gate_inputs)):
        prediction = or_gate_perceptron.predict(or_gate_inputs[i])
        error = or_gate_labels[i] - prediction
        or_gate_perceptron.weights += error * or_gate_inputs[i]
        or_gate_perceptron.bias += error

print("\nOR Gate:")
for i in range(len(or_gate_inputs)):
    prediction = or_gate_perceptron.predict(or_gate_inputs[i])
    print(f"Input: {or_gate_inputs[i]}, Predicted Output: {prediction}")
