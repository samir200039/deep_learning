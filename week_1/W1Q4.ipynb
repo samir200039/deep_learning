import numpy as np
from sklearn.model_selection import train_test_split
from sklearn.metrics import accuracy_score
from sklearn.preprocessing import StandardScaler

class Perceptron:
    def __init__(self, num_inputs):
        self.weights = np.random.rand(num_inputs)
        self.threshold = 1  
        self.learning_rate = 0.4  

    def predict(self, inputs):
        weighted_sum = np.dot(inputs, self.weights)
        return 1 if weighted_sum > self.threshold else 0

    def train(self, X_train, y_train, epochs=100):
        for epoch in range(epochs):
            for inputs, label in zip(X_train, y_train):
                prediction = self.predict(inputs)
                error = label - prediction
                self.weights += self.learning_rate * error * inputs

    def get_weights(self):
        return self.weights

def generate_synthetic_data(num_samples=500):
    np.random.seed(42)
    age = np.random.randint(18, 65, num_samples)
    salary = np.random.randint(30000, 100000, num_samples)
    family_members = np.random.randint(1, 5, num_samples)
    labels = np.random.randint(0, 2, num_samples)

    data = np.column_stack((age, salary, family_members, labels))
    return data

def train_test_split_data(data, test_size=0.3):
    features = data[:, :-1]
    labels = data[:, -1]
    return train_test_split(features, labels, test_size=test_size, random_state=42)

synthetic_data = generate_synthetic_data()

train_features, test_features, train_labels, test_labels = train_test_split_data(synthetic_data)

scaler = StandardScaler()
train_features_scaled = scaler.fit_transform(train_features)
test_features_scaled = scaler.transform(test_features)

num_inputs = train_features_scaled.shape[1]
perceptron_model = Perceptron(num_inputs)
perceptron_model.train(train_features_scaled, train_labels, epochs=500) 

learned_weights = perceptron_model.get_weights()
print(f"\nLearned Weights: {learned_weights}\n")

test_predictions = np.array([perceptron_model.predict(inputs) for inputs in test_features_scaled])

test_accuracy = accuracy_score(test_labels, test_predictions)

print("\nSynthetic Data and Predictions:")
output_data = np.column_stack((test_features, test_labels, test_predictions))
header = ["Age", "Salary", "Family Members", "Actual Label", "Predicted Label"]
print(f"{header[0]:<15} {header[1]:<15} {header[2]:<15} {header[3]:<15} {header[4]:<15}")
for row in output_data:
    print(f"{row[0]:<15} {row[1]:<15} {row[2]:<15} {row[3]:<15} {row[4]:<15}")

print(f"\nPerceptron Test Accuracy: {test_accuracy:.2f}")
