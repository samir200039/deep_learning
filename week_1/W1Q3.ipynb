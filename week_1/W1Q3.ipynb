import numpy as np
import matplotlib.pyplot as plt
from sklearn.model_selection import train_test_split
from sklearn.metrics import accuracy_score

def mp_neuron_predict(inputs, threshold):
    return 1 if sum(inputs) > threshold else 0

def generate_synthetic_data(num_samples=500):
    np.random.seed(42)
    age = np.random.randint(18, 65, num_samples)
    salary = np.random.randint(30000, 100000, num_samples)
    family_members = np.random.randint(1, 5, num_samples)
    labels = np.random.randint(0, 2, num_samples)

    data = np.column_stack((age, salary, family_members, labels))
    return data

def train_test_split_data(data, test_size=0.3):
    features = data[:, :-1]
    labels = data[:, -1]
    return train_test_split(features, labels, test_size=test_size, random_state=42)

def train_and_evaluate_mp_neuron(train_features, train_labels, test_features, test_labels, threshold):
    train_predictions = np.array([mp_neuron_predict(inputs, threshold) for inputs in train_features])
    test_predictions = np.array([mp_neuron_predict(inputs, threshold) for inputs in test_features])

    train_accuracy = accuracy_score(train_labels, train_predictions)
    test_accuracy = accuracy_score(test_labels, test_predictions)

    return train_accuracy, test_accuracy, test_predictions

synthetic_data = generate_synthetic_data()

train_features, test_features, train_labels, test_labels = train_test_split_data(synthetic_data)

threshold_value = 70000

train_accuracy, test_accuracy, test_predictions = train_and_evaluate_mp_neuron(
    train_features, train_labels,
    test_features, test_labels,
    threshold_value
)

# Plotting graphs
fig, axes = plt.subplots(nrows=2, ncols=2, figsize=(12, 10))
fig.suptitle('Variation in Age, Salary, Family Members, and Predictions', fontsize=16)

# Age
axes[0, 0].scatter(test_features[:, 0], test_labels, label='Actual')
axes[0, 0].scatter(test_features[:, 0], test_predictions, marker='x', label='Predicted')
axes[0, 0].set_xlabel('Age')
axes[0, 0].set_ylabel('Buy House')
axes[0, 0].legend()

# Salary
axes[0, 1].scatter(test_features[:, 1], test_labels, label='Actual')
axes[0, 1].scatter(test_features[:, 1], test_predictions, marker='x', label='Predicted')
axes[0, 1].set_xlabel('Salary')
axes[0, 1].set_ylabel('Buy House')
axes[0, 1].legend()

# Family Members
axes[1, 0].scatter(test_features[:, 2], test_labels, label='Actual')
axes[1, 0].scatter(test_features[:, 2], test_predictions, marker='x', label='Predicted')
axes[1, 0].set_xlabel('Family Members')
axes[1, 0].set_ylabel('Buy House')
axes[1, 0].legend()

# Age vs Salary
scatter = axes[1, 1].scatter(test_features[:, 0], test_features[:, 1], c=test_predictions, cmap='coolwarm', label='Predicted')
axes[1, 1].set_xlabel('Age')
axes[1, 1].set_ylabel('Salary')
axes[1, 1].legend()
cbar = fig.colorbar(scatter, ax=axes[1, 1])
cbar.set_label('Buy House Prediction', rotation=270, labelpad=15)

plt.show()

print("Synthetic Data and Predictions:")
print(np.column_stack((test_features, test_labels, test_predictions)))

print(f"\nMP Neuron Training Accuracy: {train_accuracy:.2f}")
print(f"MP Neuron Test Accuracy: {test_accuracy:.2f}")
