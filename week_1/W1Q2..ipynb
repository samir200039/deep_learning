import datetime

class SmartHomeLightingSystem:
    def __init__(self):
        self.light_status = False  
        self.people_inside = 0

    def get_current_time(self):
        return datetime.datetime.now().time()

    def update_people_inside(self):
        try:
            self.people_inside = int(input("Enter the number of people at home: "))
        except ValueError:
            print("Invalid input. Please enter a valid number.")

    def apply_rules(self):
        current_time = self.get_current_time()

        if datetime.time(6, 0) <= current_time < datetime.time(18, 0):
            self.set_light_brightness("dim")
        else:
            self.set_light_brightness("bright")

        if self.people_inside == 0:
            self.turn_off_lights()

        if current_time >= datetime.time(23, 0) or current_time < datetime.time(6, 0):
            self.turn_off_lights()
            if current_time >= datetime.time(6, 0):
                self.set_light_brightness("dim")

    def set_light_brightness(self, brightness):
        print(f"Setting lights to {brightness} mode.")

    def turn_off_lights(self):
        print("Turning off lights.")
        self.light_status = False

    def turn_on_lights(self):
        print("Turning on lights.")
        self.light_status = True

smart_home = SmartHomeLightingSystem()

smart_home.update_people_inside()

smart_home.apply_rules()
